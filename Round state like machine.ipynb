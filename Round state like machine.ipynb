{
 "cells": [
  {
   "cell_type": "markdown",
   "metadata": {},
   "source": [
    "#### Building a deck.\n",
    "\n",
    "Which is a set of files in \"card_deck_1\" folder. This will only be used for visualization here."
   ]
  },
  {
   "cell_type": "code",
   "execution_count": 2,
   "metadata": {},
   "outputs": [
    {
     "name": "stdout",
     "output_type": "stream",
     "text": [
      "your deck is complete!\n"
     ]
    }
   ],
   "source": [
    "from PIL import Image, ImageDraw, ImageFont\n",
    "import os, sys\n",
    "\"\"\" This script creates a standard playing deck of cards(52).\n",
    "Tested on windows and linux - OS users will have to modify the\n",
    "font type and font location.\n",
    "Usage: python3 script_name.py\"\"\"\n",
    " \n",
    "def build_deck(value,suit,polygon):\n",
    "    if suit == 'hearts':\n",
    "        fill_color= 'red'\n",
    "    elif suit == 'diamonds':\n",
    "        fill_color= 'red'\n",
    "    else:\n",
    "        fill_color= 'black'\n",
    "    im = Image.new(\"RGB\", (360, 430),'lightgray')\n",
    "    draw = ImageDraw.Draw(im)\n",
    "            \n",
    "    draw.text((10, 10), text=value, fill=fill_color,\n",
    "              font= font, stroke_width=2,\n",
    "              stroke_fill=\"#0f0\")\n",
    "    if value == '10':\n",
    "        draw.text((220,300),text=value,fill= fill_color, font=font,\n",
    "                  stroke_width=2,stroke_fill='#0f0')\n",
    "    else:\n",
    "        draw.text((275,300),text=value,fill= fill_color, font=font,\n",
    "                  stroke_width=2,stroke_fill='#0f0')\n",
    "    draw.polygon(polygon, fill= fill_color,outline='yellow')\n",
    "    path= f'{suit}_{value}.png'\n",
    "    total_path= os.path.join(create_dir,path)\n",
    "    im.save(total_path,'png')\n",
    "\n",
    "def main():\n",
    "    baseCards= ['A','2','3','4','5','6','7','8','9',\n",
    "                         '10','J','Q','K',]\n",
    "    diamonds= [(174.5, 281.5), (105.5, 197.5), (178.5, 125.5),\n",
    "               (243.5, 195.5)]\n",
    "    hearts= [(176.5, 155.5), (190.5, 136.5), (212.5, 119.5),\n",
    "             (243.5, 116.5), (267.5, 135.5), (261.5, 170.5),\n",
    "             (247.5, 198.5), (218.5, 228.5), (201.5, 250.5),\n",
    "             (190.5, 269.5), (172.5, 256.5), (146.5, 234.5),\n",
    "             (122.5, 202.5), (107.5, 180.5), (99.5, 150.5),\n",
    "             (107.5, 122.5), (126.5, 108.5), (147.5, 111.5),\n",
    "             (165.5, 134.5)]\n",
    "    spades= [(175.5, 134.5), (159.5, 157.5), (141.5, 186.5),\n",
    "             (129.5, 226.5), (137.5, 249.5), (165.5, 256.5),\n",
    "             (185.5, 250.5), (190.5, 283.5), (206.5, 283.5),\n",
    "             (203.5, 253.5), (217.5, 258.5), (240.5, 259.5),\n",
    "             (256.5, 244.5), (256.5, 215.5), (235.5, 180.5),\n",
    "             (206.5, 151.5), (186.5, 123.5)]\n",
    "    clubs= [(158.5, 120.5), (175.5, 120.5), (196.5, 132.5),\n",
    "            (202.5, 149.5), (201.5, 173.5), (191.5, 186.5),\n",
    "            (211.5, 178.5), (230.5, 170.5), (252.5, 183.5),\n",
    "            (253.5, 205.5), (237.5, 228.5), (219.5, 241.5),\n",
    "            (195.5, 243.5), (181.5, 228.5), (185.5, 271.5),\n",
    "            (169.5, 270.5), (171.5, 233.5), (158.5, 240.5),\n",
    "            (140.5, 248.5), (106.5, 232.5), (98.5, 207.5),\n",
    "            (108.5, 182.5), (136.5, 176.5), (131.5, 165.5),\n",
    "            (120.5, 137.5), (137.5, 122.5)]    \n",
    "     \n",
    "    suits= {'diamonds':diamonds,'hearts':hearts,\n",
    "            'spades':spades,'clubs':clubs}    \n",
    "    for key,value in suits.items():        \n",
    "        for card in baseCards:                       \n",
    "            build_deck(card, key ,value)\n",
    "    print('your deck is complete!')\n",
    "\n",
    "if __name__ == '__main__':\n",
    "    create_dir= 'card_deck_1'\n",
    "    os.makedirs(create_dir, exist_ok=True)\n",
    "    if sys.platform == 'linux':\n",
    "        font = ImageFont.truetype(\"Tests/fonts/FreeMono.ttf\", 120)\n",
    "    elif sys.platform == 'win32':\n",
    "        font= ImageFont.truetype('arial.ttf', 120)\n",
    "    elif sys.platform == 'darwin':\n",
    "        'find a font location that works'\n",
    "        #font= imageFont.truetype('arial.ttf', 120)\n",
    "        pass \n",
    "    main()"
   ]
  },
  {
   "cell_type": "markdown",
   "metadata": {},
   "source": [
    "#### Building a real deck.\n",
    "\n",
    "I mean in memory :)\n"
   ]
  },
  {
   "cell_type": "code",
   "execution_count": 46,
   "metadata": {},
   "outputs": [],
   "source": [
    "import enum\n",
    "from random import randint\n",
    "\n",
    "class Cd_Num(enum.IntEnum):\n",
    "\n",
    "    \"\"\"Cd_Num is the set of int (score) value of numerical cards\"\"\"\n",
    "\n",
    "    Two = 2\n",
    "    Three = 3\n",
    "    Four = 4\n",
    "    Five = 5\n",
    "    Six = 6\n",
    "    Seven = 7\n",
    "    Eight = 8\n",
    "    Nine = 9\n",
    "    Ten = 10\n",
    "\n",
    "\n",
    "class Cd_Face(enum.IntEnum):\n",
    "\n",
    "    \"\"\"Cd_Face is the set of int (score) value of face cards\"\"\"\n",
    "    Ace = 1\n",
    "    Jack = 11\n",
    "    Queen = 12\n",
    "    King = 13\n",
    "    \n",
    "mapper = {\n",
    "    1: \"A\",\n",
    "    2: \"2\",\n",
    "    3: \"3\",\n",
    "    4: \"4\",\n",
    "    5: \"5\",\n",
    "    6: \"6\",\n",
    "    7: \"7\",\n",
    "    8: \"8\",\n",
    "    9: \"9\",\n",
    "    10: \"10\",\n",
    "    11: \"J\",\n",
    "    12: \"Q\",\n",
    "    13: \"K\"\n",
    "}\n",
    "class Card():\n",
    "    def __init__(self, value, color):\n",
    "        self.value = value\n",
    "        self.color = color\n",
    "    def __str__ (self):\n",
    "        return \"{} of {}\".format(self.value, self.color)\n",
    "    def filename(self):\n",
    "        return \"{}_{}.png\".format(self.color, mapper[self.value])\n",
    "    \n",
    "def popHand(n, deck):\n",
    "    hand = []\n",
    "    for i in range(n):\n",
    "        hand.append(deck.pop(randint(0,len(deck)-1)))\n",
    "    return hand\n",
    "\n",
    "Card.__repr__ = Card.__str__\n",
    "colors = ['spades', 'diamonds', 'hearts', 'clubs']\n",
    "deck = [Card(value, color) for value in range(1, 14) for color in colors]"
   ]
  },
  {
   "cell_type": "markdown",
   "metadata": {},
   "source": [
    "#### Init gameplay model.\n",
    "\n",
    "This Defines:\n",
    "   - entities: players, plays, rounds\n",
    "   - actions: face_up and score"
   ]
  },
  {
   "cell_type": "code",
   "execution_count": 54,
   "metadata": {},
   "outputs": [],
   "source": [
    "import random\n",
    "from IPython.display import Image, display\n",
    "\n",
    "\n",
    "around = {}\n",
    "plays = 0\n",
    "player1 = []\n",
    "player2 = []\n",
    "deck = [Card(value, color) for value in range(1, 14) for color in colors]\n",
    "hand1 = popHand(10, deck)\n",
    "hand2 = popHand(10, deck)\n",
    "\n",
    "def popRand(deck):\n",
    "    \"\"\"popRand gets one random `card` from `hand`\"\"\"\n",
    "    if (len(deck)==0):\n",
    "        raise Exception('no hand yet or exhausted')\n",
    "    return deck.pop(random.randrange(len(deck)))\n",
    "\n",
    "def typeof(card):\n",
    "    if(card.value>1 and card.value <11):\n",
    "        return \"number\"\n",
    "    else:\n",
    "        return \"face\"\n",
    "\n",
    "\n",
    "def init_round():\n",
    "    global plays\n",
    "    around['p1_last'], around['p1_new'], around['p2_last'], around['p2_new'], around['done'], around['plays'] = False,0,False,0,False,0\n",
    "    around['last_plays'] = plays \n",
    "    return\n",
    "\n",
    "def score():\n",
    "    global plays\n",
    "    global player1\n",
    "    global player2\n",
    "#     print(\"last_plays\")\n",
    "#     print(around['last_plays'])\n",
    "#     print(\"player1\")\n",
    "#     print(player1)\n",
    "#     print(\"player2\")\n",
    "#     print(player2)\n",
    "    player1_max = max([p.value  for p in player1[around['last_plays']:] if(p.value>1 and p.value <11)] or [0])\n",
    "    player2_max = max([p.value  for p in player2[around['last_plays']:] if(p.value>1 and p.value <11)] or [0])\n",
    "#     print(player1_max)\n",
    "#     print(player2_max)\n",
    "    max_index = [player1_max, player2_max].index(max(player1_max, player2_max))\n",
    "    print(\"player {} scoring : {}\".format(max_index+1, max(player1_max, player2_max)))\n",
    "    player1_faces = ([p.value  for p in player1[around['last_plays']:] if(p.value==1 or p.value >=11)] or [99])\n",
    "    player2_faces = ([p.value  for p in player2[around['last_plays']:] if(p.value==1 or p.value >=11)] or [99])\n",
    "    min_index = [min(player1_faces), min(player2_faces)].index(min(min(player1_faces), min(player2_faces)))\n",
    "#     print(\"min_index \"+str(min_index))\n",
    "    if(min(player2_faces)==99 and min(player1_faces)==99):\n",
    "        print(\"## no faces at all ##\")\n",
    "        return\n",
    "    if(min_index==0):\n",
    "        #player1 cards go to player2 hand\n",
    "        print(\"player {} taking : {}\".format(min_index+1, \"player 2 faces\"))\n",
    "    else:\n",
    "        print(\"player {} taking : {}\".format(min_index+1, \"player 1 faces\"))\n",
    "    \n",
    "def face_up(g):\n",
    "    global plays\n",
    "    global player1\n",
    "    global player2\n",
    "    plays += 1\n",
    "    g['plays'] += 1 \n",
    "    if(g['done']):\n",
    "        g['plays'] -= 1\n",
    "        plays -= 1\n",
    "        print(\"exhausted\\n@@@@@@\")\n",
    "        return\n",
    "    g['p1_new'] = popRand(hand1)\n",
    "    g['p2_new'] = popRand(hand2)\n",
    "#     First\n",
    "    if( not g['p1_last']):\n",
    "        g['p1_last'] = g['p1_new']\n",
    "    if( not g['p2_last']):\n",
    "        g['p2_last'] = g['p2_new']\n",
    "#     Stack plays\n",
    "\n",
    "    display(Image(filename=\"card_deck_1/\"+g['p1_new'].filename(),width=64, height=89))\n",
    "    display(Image(filename=\"card_deck_1/\"+g['p2_new'].filename(),width=64, height=89))\n",
    "    player1.append(g['p1_new'])\n",
    "    player2.append(g['p2_new'])\n",
    "    \n",
    "#     if( g['p1_last']==g['p1_new'] ):\n",
    "#         print(\"starting\")\n",
    "    \n",
    "    if( typeof(g['p1_new'])==typeof(g['p2_new'])):\n",
    "        g['plays'] = 0\n",
    "        g['done'] = True\n",
    "        print(\"done\\n#######################################################\")\n",
    "        score()\n",
    "    else:\n",
    "        if( typeof(g['p1_new'])!=typeof(g['p1_last']) or typeof(g['p2_new'])!=typeof(g['p2_last'])):\n",
    "            g['plays'] = 0\n",
    "            g['done'] = True\n",
    "            print(\"done\\n#######################################################\")\n",
    "            score()\n",
    "        else:\n",
    "            print(\"continuing\")\n",
    "#                 score(player1, player2)\n",
    "\n"
   ]
  },
  {
   "cell_type": "code",
   "execution_count": 7,
   "metadata": {},
   "outputs": [
    {
     "data": {
      "text/plain": [
       "[1]"
      ]
     },
     "execution_count": 7,
     "metadata": {},
     "output_type": "execute_result"
    }
   ],
   "source": [
    "[1] or [99]"
   ]
  },
  {
   "cell_type": "markdown",
   "metadata": {},
   "source": [
    "#### A scenario of gameplay.\n",
    "\n",
    "This example show interactions with the model. For later UI implementation."
   ]
  },
  {
   "cell_type": "code",
   "execution_count": 55,
   "metadata": {},
   "outputs": [
    {
     "data": {
      "image/png": "[encoded data removed]",
      "text/plain": [
       "<IPython.core.display.Image object>"
      ]
     },
     "metadata": {
      "image/png": {
       "height": 89,
       "width": 64
      }
     },
     "output_type": "display_data"
    },
    {
     "data": {
      "image/png": "[encoded data removed]",
      "text/plain": [
       "<IPython.core.display.Image object>"
      ]
     },
     "metadata": {
      "image/png": {
       "height": 89,
       "width": 64
      }
     },
     "output_type": "display_data"
    },
    {
     "name": "stdout",
     "output_type": "stream",
     "text": [
      "done\n",
      "#######################################################\n",
      "player 2 scoring : 10\n",
      "## no faces at all ##\n",
      "exhausted\n",
      "@@@@@@\n",
      "exhausted\n",
      "@@@@@@\n"
     ]
    },
    {
     "data": {
      "image/png": "[encoded data removed]",
      "text/plain": [
       "<IPython.core.display.Image object>"
      ]
     },
     "metadata": {
      "image/png": {
       "height": 89,
       "width": 64
      }
     },
     "output_type": "display_data"
    },
    {
     "data": {
      "image/png": "[encoded data removed]",
      "text/plain": [
       "<IPython.core.display.Image object>"
      ]
     },
     "metadata": {
      "image/png": {
       "height": 89,
       "width": 64
      }
     },
     "output_type": "display_data"
    },
    {
     "name": "stdout",
     "output_type": "stream",
     "text": [
      "continuing\n"
     ]
    },
    {
     "data": {
      "image/png": "[encoded data removed]",
      "text/plain": [
       "<IPython.core.display.Image object>"
      ]
     },
     "metadata": {
      "image/png": {
       "height": 89,
       "width": 64
      }
     },
     "output_type": "display_data"
    },
    {
     "data": {
      "image/png": "[encoded data removed]",
      "text/plain": [
       "<IPython.core.display.Image object>"
      ]
     },
     "metadata": {
      "image/png": {
       "height": 89,
       "width": 64
      }
     },
     "output_type": "display_data"
    },
    {
     "name": "stdout",
     "output_type": "stream",
     "text": [
      "done\n",
      "#######################################################\n",
      "player 1 scoring : 9\n",
      "player 1 taking : player 2 faces\n",
      "exhausted\n",
      "@@@@@@\n"
     ]
    }
   ],
   "source": [
    "%matplotlib inline\n",
    "\n",
    "init_round()\n",
    "face_up(around)\n",
    "face_up(around)\n",
    "face_up(around)\n",
    "init_round()\n",
    "face_up(around)\n",
    "face_up(around)\n",
    "face_up(around)"
   ]
  }
 ],
 "metadata": {
  "kernelspec": {
   "display_name": "Python 3",
   "language": "python",
   "name": "python3"
  },
  "language_info": {
   "codemirror_mode": {
    "name": "ipython",
    "version": 3
   },
   "file_extension": ".py",
   "mimetype": "text/x-python",
   "name": "python",
   "nbconvert_exporter": "python",
   "pygments_lexer": "ipython3",
   "version": "3.7.6"
  }
 },
 "nbformat": 4,
 "nbformat_minor": 4
}
