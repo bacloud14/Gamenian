{
 "cells": [
  {
   "cell_type": "code",
   "execution_count": 1,
   "metadata": {},
   "outputs": [
    {
     "name": "stdout",
     "output_type": "stream",
     "text": [
      "Collecting ortools\n",
      "  Downloading ortools-8.0.8283-cp37-cp37m-win_amd64.whl (40.8 MB)\n",
      "Requirement already satisfied, skipping upgrade: six>=1.10 in c:\\programdata\\anaconda3\\lib\\site-packages (from ortools) (1.14.0)\n",
      "Requirement already satisfied, skipping upgrade: protobuf>=3.13.0 in c:\\programdata\\anaconda3\\lib\\site-packages (from ortools) (3.13.0)\n",
      "Requirement already satisfied, skipping upgrade: setuptools in c:\\programdata\\anaconda3\\lib\\site-packages (from protobuf>=3.13.0->ortools) (46.4.0.post20200518)\n",
      "Installing collected packages: ortools\n",
      "Successfully installed ortools-8.0.8283\n"
     ]
    }
   ],
   "source": [
    "!pip install --upgrade --user ortools"
   ]
  },
  {
   "cell_type": "code",
   "execution_count": 48,
   "metadata": {},
   "outputs": [],
   "source": [
    "import enum\n",
    "\n",
    "class Cd_Num(enum.IntEnum):\n",
    "\n",
    "    Ace = 1\n",
    "    Two = 2\n",
    "    Three = 3\n",
    "    Four = 4\n",
    "    Five = 5\n",
    "    Six = 6\n",
    "    Seven = 7\n",
    "    Eight = 8\n",
    "    Nine = 9\n",
    "    Ten = 10\n",
    "\n",
    "class Cd_Face(enum.IntEnum):\n",
    "    \n",
    "    Jack= 11\n",
    "    Queen= 12\n",
    "    King= 13\n",
    "\n",
    "\n",
    "__cards__ = list(Cd_Num)+list(Cd_Face)\n",
    "\n",
    "class Player:\n",
    "    def __init__(self, name):\n",
    "        self.name = name\n",
    "    def setHand(self, n):\n",
    "        self.hand = random.sample(__cards__, n)\n",
    "    def popRand(self):\n",
    "        if(not self.hand):\n",
    "            raise Exception(\"no hand yet\")\n",
    "        return self.hand.pop(random.randrange(len(self.hand)))\n",
    "    def popCard(self, idx):\n",
    "        if(not self.hand):\n",
    "            raise Exception(\"no hand yet\")\n",
    "        if(not idx or idx<1 or idx>len(self.hand)):\n",
    "            raise Exception(\"idx must be within 1 and number of remaining cards\")\n",
    "        return self.hand.pop(idx-1)\n",
    "    \n",
    "class GamePlay:\n",
    "    def __init__(self):\n",
    "        self.plays = []\n",
    "    def playStrategy(self, player1:Player, player2:Player, strategy:str):\n",
    "        card1 = player1.popRand()\n",
    "        card2 = player2.popRand()\n",
    "        if(card1>card2):\n",
    "            print(\"player1 won\")\n",
    "        else:\n",
    "            print(\"Payer2 won\")\n",
    "        return (card1, card2)\n",
    "    def played(self, play):\n",
    "        self.plays.append(play)\n",
    "        play.show()\n",
    "    def showPlays(self):\n",
    "        print(\"##### All plays ####\")\n",
    "        [play.show() for play in self.plays]\n",
    "\n",
    "class Play:\n",
    "    def score(self, card1, card2):\n",
    "        if(card1>card2):\n",
    "            self.score = card1 - card2\n",
    "            self.win = \"player1\"\n",
    "        else:\n",
    "            self.score = card2 - card1\n",
    "            self.win = \"player2\"\n",
    "    def show(self):\n",
    "        print(\"Score: \"+str(self.score), \"Winned: \"+str(self.win))\n",
    "        \n",
    "    def __init__(self, couple):\n",
    "        card1 = couple[0]\n",
    "        card2 = couple[1]\n",
    "        self.current = True\n",
    "        self.card1 = card1\n",
    "        self.card2 = card2\n",
    "        self.score(card1, card2)\n",
    "\n",
    "    "
   ]
  },
  {
   "cell_type": "code",
   "execution_count": 49,
   "metadata": {},
   "outputs": [
    {
     "name": "stdout",
     "output_type": "stream",
     "text": [
      "Cd_Num.Three\n",
      "Cd_Face.Jack\n",
      "[<Cd_Face.King: 13>, <Cd_Num.Six: 6>, <Cd_Face.Queen: 12>, <Cd_Num.Two: 2>, <Cd_Num.Nine: 9>, <Cd_Num.Seven: 7>, <Cd_Num.Ace: 1>, <Cd_Num.Four: 4>]\n",
      "Payer2 won\n",
      "Score: 0 Winned: player2\n",
      "Payer2 won\n",
      "Score: 0 Winned: player2\n",
      "##### All plays ####\n",
      "Score: 0 Winned: player2\n",
      "Score: 0 Winned: player2\n"
     ]
    }
   ],
   "source": [
    "import random\n",
    "player1 = Player(\"Jack\")\n",
    "player2 = Player(\"Lenon\")\n",
    "player1.setHand(10)\n",
    "player2.setHand(10)\n",
    "\n",
    "print(player2.popRand())\n",
    "print(player2.popCard(2))\n",
    "print(player2.hand)\n",
    "\n",
    "\n",
    "gp = GamePlay()\n",
    "couple = gp.playStrategy(player1, player2, \"strategy\")\n",
    "play1 = Play(couple)\n",
    "gp.played(play1)\n",
    "couple = gp.playStrategy(player1, player2, \"strategy\")\n",
    "play2 = Play(couple)\n",
    "gp.played(play2)\n",
    "gp.showPlays()"
   ]
  }
 ],
 "metadata": {
  "kernelspec": {
   "display_name": "Python 3",
   "language": "python",
   "name": "python3"
  },
  "language_info": {
   "codemirror_mode": {
    "name": "ipython",
    "version": 3
   },
   "file_extension": ".py",
   "mimetype": "text/x-python",
   "name": "python",
   "nbconvert_exporter": "python",
   "pygments_lexer": "ipython3",
   "version": "3.7.6"
  }
 },
 "nbformat": 4,
 "nbformat_minor": 4
}
